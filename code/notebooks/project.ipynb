{
 "cells": [
  {
   "cell_type": "code",
   "execution_count": 1,
   "metadata": {},
   "outputs": [
    {
     "name": "stderr",
     "output_type": "stream",
     "text": [
      "2025-05-04 07:40:48.532216: E external/local_xla/xla/stream_executor/cuda/cuda_fft.cc:477] Unable to register cuFFT factory: Attempting to register factory for plugin cuFFT when one has already been registered\n",
      "WARNING: All log messages before absl::InitializeLog() is called are written to STDERR\n",
      "E0000 00:00:1746333648.545710   23861 cuda_dnn.cc:8310] Unable to register cuDNN factory: Attempting to register factory for plugin cuDNN when one has already been registered\n",
      "E0000 00:00:1746333648.549585   23861 cuda_blas.cc:1418] Unable to register cuBLAS factory: Attempting to register factory for plugin cuBLAS when one has already been registered\n",
      "2025-05-04 07:40:48.564013: I tensorflow/core/platform/cpu_feature_guard.cc:210] This TensorFlow binary is optimized to use available CPU instructions in performance-critical operations.\n",
      "To enable the following instructions: AVX2 FMA, in other operations, rebuild TensorFlow with the appropriate compiler flags.\n"
     ]
    }
   ],
   "source": [
    "import tensorflow as tf\n",
    "import numpy as np \n",
    "from tensorflow import keras\n"
   ]
  },
  {
   "cell_type": "code",
   "execution_count": 2,
   "metadata": {},
   "outputs": [],
   "source": [
    "from tensorflow.keras.datasets import mnist"
   ]
  },
  {
   "cell_type": "code",
   "execution_count": 3,
   "metadata": {},
   "outputs": [],
   "source": [
    "(train_images,train_labels),(test_images,test_labels) = mnist.load_data()"
   ]
  },
  {
   "cell_type": "code",
   "execution_count": 4,
   "metadata": {},
   "outputs": [
    {
     "name": "stdout",
     "output_type": "stream",
     "text": [
      "(60000, 28, 28)\n",
      "(60000,)\n",
      "(10000, 28, 28)\n",
      "(10000,)\n",
      "(60000, 784)\n",
      "(60000,)\n",
      "(10000, 784)\n",
      "(10000,)\n",
      "(60000, 10)\n",
      "(10000, 10)\n"
     ]
    }
   ],
   "source": [
    "print(train_images.shape)\n",
    "print(train_labels.shape)\n",
    "print(test_images.shape)\n",
    "print(test_labels.shape)\n",
    "train_images = train_images.reshape((60000, 28 * 28))\n",
    "train_images = train_images.astype(\"float32\") / 255\n",
    "test_images = test_images.reshape((10000, 28 * 28))\n",
    "test_images = test_images.astype(\"float32\") / 255\n",
    "print(train_images.shape)\n",
    "print(train_labels.shape)\n",
    "print(test_images.shape)\n",
    "print(test_labels.shape)\n",
    "encoded_train_label = keras.utils.to_categorical(train_labels, num_classes=10)\n",
    "encoded_test_label = keras.utils.to_categorical(test_labels, num_classes=10)\n",
    "print(encoded_train_label.shape)\n",
    "print(encoded_test_label.shape)"
   ]
  },
  {
   "cell_type": "markdown",
   "metadata": {},
   "source": [
    "# MLP realted stuff"
   ]
  },
  {
   "cell_type": "code",
   "execution_count": 5,
   "metadata": {},
   "outputs": [],
   "source": [
    "def model_create(input_dim , output_dim , hidden): # hidden here is a array each number represnet the numpber of nurons in each hidden layer\n",
    "    model = keras.Sequential()\n",
    "    model.add(keras.layers.Dense(hidden[0], input_shape=(input_dim,),activation='relu')) # input layers with dim 28*28 for our problem\n",
    "\n",
    "    for nueron in hidden[1:]:\n",
    "        model.add(keras.layers.Dense(nueron, activation='relu'))\n",
    "\n",
    "    model.add(keras.layers.Dense(output_dim, activation='softmax'))\n",
    "\n",
    "    return model\n",
    "    \n",
    "    \n",
    "    "
   ]
  },
  {
   "cell_type": "code",
   "execution_count": 6,
   "metadata": {},
   "outputs": [],
   "source": [
    "def extract_weight(model):\n",
    "    weights = []\n",
    "\n",
    "    for layer in model.layers:\n",
    "        layer_weights = layer.get_weights()\n",
    "\n",
    "        weights.extend([w.flatten() for w in layer_weights])\n",
    "    return np.concatenate(weights)\n",
    "    "
   ]
  },
  {
   "cell_type": "code",
   "execution_count": null,
   "metadata": {},
   "outputs": [],
   "source": []
  },
  {
   "cell_type": "code",
   "execution_count": 7,
   "metadata": {},
   "outputs": [],
   "source": [
    "def return_weights_toModel(model,weight_vector):\n",
    "    #save shapes\n",
    "    idx=0\n",
    "\n",
    "    for i, layer in enumerate(model.layers):  # enumerate to make no iterable items iterable reutrn index i here for example\n",
    "        layer_weight = layer.get_weights()\n",
    "\n",
    "        new_weights= [] # new list of weights\n",
    "\n",
    "        for j,w in enumerate(layer_weight): # j index from enumerate i didnt used it because i dont need it \n",
    "            \n",
    "            n_weights = w.size\n",
    "\n",
    "            new_w = weight_vector[idx:idx + n_weights].reshape(w.shape)\n",
    "\n",
    "            new_weights.append(new_w)\n",
    "\n",
    "            idx += n_weights\n",
    "\n",
    "        layer.set_weights(new_weights)\n",
    "\n",
    "    return model  # model with updated layers\n",
    "    "
   ]
  },
  {
   "cell_type": "markdown",
   "metadata": {},
   "source": [
    "# fitness function"
   ]
  },
  {
   "cell_type": "code",
   "execution_count": 8,
   "metadata": {},
   "outputs": [],
   "source": [
    "def fitness_function(x_train, y_train, original_model, weight_vector):\n",
    "\n",
    "    model_copy = keras.models.clone_model(original_model) # model with new wieght to test with \n",
    "    model_copy.build(original_model.input_shape) # without build : erorr weight is not defined in next line when i try to set weight\n",
    "\n",
    "    return_weights_toModel(model_copy, weight_vector)\n",
    "\n",
    "    model_copy.compile(\n",
    "        optimizer='adam',\n",
    "        loss='categorical_crossentropy',\n",
    "        metrics=['accuracy'] \n",
    "    )\n",
    "    \n",
    "    loss,accuracy = model_copy.evaluate(x_train, y_train, verbose=0)  # verbose because when testing i got alot of green bars\n",
    "\n",
    "\n",
    "    return accuracy    "
   ]
  },
  {
   "cell_type": "code",
   "execution_count": 9,
   "metadata": {},
   "outputs": [
    {
     "name": "stderr",
     "output_type": "stream",
     "text": [
      "/home/theodoros/.local/lib/python3.11/site-packages/keras/src/layers/core/dense.py:87: UserWarning: Do not pass an `input_shape`/`input_dim` argument to a layer. When using Sequential models, prefer using an `Input(shape)` object as the first layer in the model instead.\n",
      "  super().__init__(activity_regularizer=activity_regularizer, **kwargs)\n",
      "I0000 00:00:1746333653.800070   23861 gpu_device.cc:2022] Created device /job:localhost/replica:0/task:0/device:GPU:0 with 2169 MB memory:  -> device: 0, name: NVIDIA GeForce RTX 3050 Laptop GPU, pci bus id: 0000:01:00.0, compute capability: 8.6\n"
     ]
    },
    {
     "data": {
      "image/png": "[encoded data removed]",
      "text/plain": [
       "<IPython.core.display.Image object>"
      ]
     },
     "execution_count": 9,
     "metadata": {},
     "output_type": "execute_result"
    }
   ],
   "source": [
    "# test example \n",
    "model = model_create(input_dim=28*28 , output_dim=10 , hidden=[32])\n",
    "model.compile(optimizer='adam', loss='categorical_crossentropy', metrics=['accuracy'])\n",
    "tf.keras.utils.plot_model(model, \"model.png\", show_shapes=True)\n",
    "\n",
    "# weight_vecotor_test = extract_weight(model)\n",
    "# print(weight_vecotor_test)\n",
    "\n",
    "# mse = fitness_function(train_images,encoded_train_label, model, weight_vecotor_test)\n",
    "# print(\"mse is : \",mse)"
   ]
  },
  {
   "cell_type": "markdown",
   "metadata": {},
   "source": [
    "# intialzation function\n",
    "\n",
    "DONT FORGET HERE WHERE YOU SET SEED!!!!\n"
   ]
  },
  {
   "cell_type": "code",
   "execution_count": 10,
   "metadata": {},
   "outputs": [],
   "source": [
    "# tf.random.set_seed(24)\n",
    "# np.random.seed(24)\n",
    "def intialize_population(model, population_size, min_val=0 , max_val=1.0):\n",
    "\n",
    "    weights = extract_weight(model) \n",
    "    # to get the length to create the new at the same size\n",
    "\n",
    "    num_weights = len(weights)\n",
    "\n",
    "    population = tf.random.uniform(\n",
    "        shape = (population_size, num_weights),\n",
    "        minval=min_val,\n",
    "        maxval=max_val,\n",
    "        dtype = tf.float32\n",
    "        \n",
    "    )\n",
    "\n",
    "    population_np = population.numpy()\n",
    "\n",
    "\n",
    "    return population_np\n",
    "    "
   ]
  },
  {
   "cell_type": "code",
   "execution_count": 11,
   "metadata": {},
   "outputs": [],
   "source": [
    "# test\n",
    "NP=10\n",
    "population=intialize_population(model,NP)"
   ]
  },
  {
   "cell_type": "code",
   "execution_count": 12,
   "metadata": {},
   "outputs": [
    {
     "data": {
      "text/plain": [
       "(10, 25450)"
      ]
     },
     "execution_count": 12,
     "metadata": {},
     "output_type": "execute_result"
    }
   ],
   "source": [
    "population.shape\n"
   ]
  },
  {
   "cell_type": "code",
   "execution_count": 13,
   "metadata": {},
   "outputs": [
    {
     "data": {
      "text/plain": [
       "array([[0.2723117 , 0.03141403, 0.3328166 , ..., 0.9410806 , 0.9876138 ,\n",
       "        0.43675733],\n",
       "       [0.7429439 , 0.8438544 , 0.33607006, ..., 0.71098435, 0.87800264,\n",
       "        0.26874638],\n",
       "       [0.3168056 , 0.24616826, 0.2110889 , ..., 0.66668177, 0.10064614,\n",
       "        0.6788213 ],\n",
       "       ...,\n",
       "       [0.53021896, 0.6548767 , 0.4723221 , ..., 0.3494923 , 0.50498676,\n",
       "        0.80831397],\n",
       "       [0.23571432, 0.64557135, 0.08699679, ..., 0.62873983, 0.3639083 ,\n",
       "        0.12107956],\n",
       "       [0.5350357 , 0.7827263 , 0.55652785, ..., 0.5223907 , 0.9011388 ,\n",
       "        0.43971908]], dtype=float32)"
      ]
     },
     "execution_count": 13,
     "metadata": {},
     "output_type": "execute_result"
    }
   ],
   "source": [
    "population"
   ]
  },
  {
   "cell_type": "code",
   "execution_count": 14,
   "metadata": {},
   "outputs": [
    {
     "name": "stdout",
     "output_type": "stream",
     "text": [
      "number of genes is :  25450\n"
     ]
    }
   ],
   "source": [
    "D = len(extract_weight(model))\n",
    "print(\"number of genes is : \",D)"
   ]
  },
  {
   "cell_type": "code",
   "execution_count": null,
   "metadata": {},
   "outputs": [],
   "source": [
    "# other parmeters\n",
    "\n",
    "F = 0.5\n",
    "CR = 0.7\n",
    "GEN= 600\n",
    "\n",
    "# constrains\n",
    "\n",
    "L= -1\n",
    "H= 1\n"
   ]
  },
  {
   "cell_type": "code",
   "execution_count": 16,
   "metadata": {},
   "outputs": [
    {
     "name": "stdout",
     "output_type": "stream",
     "text": [
      "[0.5350357  0.7827263  0.55652785 ... 0.5223907  0.9011388  0.43971908]\n",
      "(25450,)\n"
     ]
    }
   ],
   "source": [
    "# selection for the 3 random parent i prreffered to make it a function for editing later \n",
    "def random_vectors(population, current_index):\n",
    "    \n",
    "    population_size = population.shape[0]\n",
    "\n",
    "    # remove the target vectory  \n",
    "\n",
    "    population2 = list(range(population_size))\n",
    "    population2.remove(current_index)\n",
    "\n",
    "    # choosing indices \n",
    "    indexs = np.random.choice(population2, size=3 , replace=False)\n",
    "\n",
    "    v1 = population[indexs[0]]\n",
    "    v2 = population[indexs[1]]\n",
    "    v3 = population[indexs[2]]\n",
    "\n",
    "    return v1, v2, v3\n",
    "\n",
    "\n",
    "\n",
    "# test \n",
    "\n",
    "x1,x2,x3 = random_vectors(population,5)\n",
    "print(x2)\n",
    "print(x2.shape)\n",
    "\n",
    "# dont forget to check glitch with seed here later \n",
    "    "
   ]
  },
  {
   "cell_type": "markdown",
   "metadata": {},
   "source": [
    "# mutation and crossover function"
   ]
  },
  {
   "cell_type": "code",
   "execution_count": 17,
   "metadata": {},
   "outputs": [
    {
     "name": "stdout",
     "output_type": "stream",
     "text": [
      "(25450,)\n",
      "[ 0.07590458 -0.4514882   0.02192155 ... -0.84853825  0.26717043\n",
      "  0.65194935]\n"
     ]
    }
   ],
   "source": [
    "def mutate(x1,x2,x3 , F, D,L=-1, H=1):\n",
    "    v = np.zeros(D)\n",
    "    \n",
    "    for i in range(D):\n",
    "        v[i] = x3[i]+ F* (x1[i] - x2[i])\n",
    "\n",
    "        if v[i] < L or v[i] > H:\n",
    "            v[i] = L + np.random.random() * (H - L) # (h-l ) to normalize the random number to fit between them\n",
    "\n",
    "    return v\n",
    "\n",
    "# the old version had  a problem handling constrains \n",
    "\n",
    "# def mutate (x1,x2,x3,F):\n",
    "#     v = x3+F*(x1-x2)\n",
    "\n",
    "#     return v\n",
    "\n",
    "\n",
    "# test \n",
    "v = mutate(x1,x2,x3 ,.9 ,D)\n",
    "print(v.shape)\n",
    "print (v)"
   ]
  },
  {
   "cell_type": "code",
   "execution_count": 18,
   "metadata": {},
   "outputs": [],
   "source": [
    "def crossover(target_vector , mutant_vector ,CR,D):\n",
    "\n",
    "    trial_vector = np.zeros(D)\n",
    "\n",
    "    for i in range(D):\n",
    "        r = np.random.random()\n",
    "    \n",
    "        if r < CR:\n",
    "            trial_vector[i] = mutant_vector[i]\n",
    "\n",
    "        else:\n",
    "            trial_vector[i] = target_vector[i]\n",
    "\n",
    "    return trial_vector\n",
    "    \n",
    "        \n",
    "\n",
    "    \n",
    "    "
   ]
  },
  {
   "cell_type": "code",
   "execution_count": 19,
   "metadata": {},
   "outputs": [],
   "source": [
    "import gc\n",
    "def evolve(population, GEN, NP, D, F, CR, model, x_train, y_train, L=0, H=1):\n",
    "    best_solution = None\n",
    "    best_overall_fitness = 0\n",
    "    \n",
    "    for g in range(GEN):\n",
    "        new_population = np.zeros_like(population)\n",
    "        fitness_scores = np.zeros(NP)\n",
    "        \n",
    "        for j in range(NP):\n",
    "            v1, v2, v3 = random_vectors(population, j)\n",
    "            mutant_child = mutate(v1, v2, v3, F, D, L, H)\n",
    "            target_vector = population[j]\n",
    "            trial_vector = crossover(target_vector, mutant_child, CR, D)\n",
    "\n",
    "            trial_fitness = fitness_function(x_train, y_train, model, trial_vector)\n",
    "            target_fitness = fitness_function(x_train, y_train, model, target_vector)\n",
    "\n",
    "            if trial_fitness > target_fitness:  # Higher is better for accuracy\n",
    "                new_population[j] = trial_vector\n",
    "                fitness_scores[j] = trial_fitness\n",
    "            else:\n",
    "                new_population[j] = target_vector\n",
    "                fitness_scores[j] = target_fitness\n",
    "        \n",
    "        # Find best in this generation\n",
    "        best_fitness = np.max(fitness_scores)\n",
    "        best_index = np.argmax(fitness_scores)\n",
    "        \n",
    "        # Track best overall solution\n",
    "        if best_fitness > best_overall_fitness:\n",
    "            best_overall_fitness = best_fitness\n",
    "            best_solution = new_population[best_index].copy()\n",
    "        \n",
    "        population = new_population.copy()\n",
    "                \n",
    "        print(f\"Generation {g}: Best fitness (accuracy) = {best_fitness}\")\n",
    "        gc.collect()\n",
    "    \n",
    "    return best_solution"
   ]
  },
  {
   "cell_type": "code",
   "execution_count": 20,
   "metadata": {
    "scrolled": true
   },
   "outputs": [
    {
     "name": "stderr",
     "output_type": "stream",
     "text": [
      "WARNING: All log messages before absl::InitializeLog() is called are written to STDERR\n",
      "I0000 00:00:1746333655.143553   24071 service.cc:148] XLA service 0x7fe6b0006ec0 initialized for platform CUDA (this does not guarantee that XLA will be used). Devices:\n",
      "I0000 00:00:1746333655.143573   24071 service.cc:156]   StreamExecutor device (0): NVIDIA GeForce RTX 3050 Laptop GPU, Compute Capability 8.6\n",
      "2025-05-04 07:40:55.152290: I tensorflow/compiler/mlir/tensorflow/utils/dump_mlir_util.cc:268] disabling MLIR crash reproducer, set env var `MLIR_CRASH_REPRODUCER_DIRECTORY` to enable.\n",
      "I0000 00:00:1746333655.170164   24071 cuda_dnn.cc:529] Loaded cuDNN version 90300\n",
      "I0000 00:00:1746333655.454966   24071 device_compiler.h:188] Compiled cluster using XLA!  This line is logged at most once for the lifetime of the process.\n"
     ]
    },
    {
     "name": "stdout",
     "output_type": "stream",
     "text": [
      "Generation 0: Best fitness (accuracy) = 0.11900000274181366\n",
      "Generation 1: Best fitness (accuracy) = 0.11900000274181366\n",
      "Generation 2: Best fitness (accuracy) = 0.12800000607967377\n",
      "Generation 3: Best fitness (accuracy) = 0.13600000739097595\n",
      "Generation 4: Best fitness (accuracy) = 0.13600000739097595\n",
      "Generation 5: Best fitness (accuracy) = 0.1509999930858612\n",
      "Generation 6: Best fitness (accuracy) = 0.1509999930858612\n",
      "Generation 7: Best fitness (accuracy) = 0.1509999930858612\n",
      "Generation 8: Best fitness (accuracy) = 0.1509999930858612\n",
      "Generation 9: Best fitness (accuracy) = 0.1509999930858612\n",
      "Generation 10: Best fitness (accuracy) = 0.1589999943971634\n",
      "Generation 11: Best fitness (accuracy) = 0.1589999943971634\n",
      "Generation 12: Best fitness (accuracy) = 0.1589999943971634\n",
      "Generation 13: Best fitness (accuracy) = 0.1589999943971634\n",
      "Generation 14: Best fitness (accuracy) = 0.1589999943971634\n",
      "Generation 15: Best fitness (accuracy) = 0.1589999943971634\n",
      "Generation 16: Best fitness (accuracy) = 0.1589999943971634\n",
      "Generation 17: Best fitness (accuracy) = 0.1589999943971634\n",
      "Generation 18: Best fitness (accuracy) = 0.1589999943971634\n",
      "Generation 19: Best fitness (accuracy) = 0.17499999701976776\n",
      "Generation 20: Best fitness (accuracy) = 0.17499999701976776\n",
      "Generation 21: Best fitness (accuracy) = 0.17499999701976776\n",
      "Generation 22: Best fitness (accuracy) = 0.17499999701976776\n",
      "Generation 23: Best fitness (accuracy) = 0.17499999701976776\n",
      "Generation 24: Best fitness (accuracy) = 0.17499999701976776\n",
      "Generation 25: Best fitness (accuracy) = 0.17499999701976776\n",
      "Generation 26: Best fitness (accuracy) = 0.17499999701976776\n",
      "Generation 27: Best fitness (accuracy) = 0.17499999701976776\n",
      "Generation 28: Best fitness (accuracy) = 0.17499999701976776\n",
      "Generation 29: Best fitness (accuracy) = 0.17499999701976776\n",
      "Generation 30: Best fitness (accuracy) = 0.17499999701976776\n",
      "Generation 31: Best fitness (accuracy) = 0.17499999701976776\n",
      "Generation 32: Best fitness (accuracy) = 0.17499999701976776\n",
      "Generation 33: Best fitness (accuracy) = 0.17499999701976776\n",
      "Generation 34: Best fitness (accuracy) = 0.17499999701976776\n",
      "Generation 35: Best fitness (accuracy) = 0.17499999701976776\n",
      "Generation 36: Best fitness (accuracy) = 0.17499999701976776\n",
      "Generation 37: Best fitness (accuracy) = 0.17499999701976776\n",
      "Generation 38: Best fitness (accuracy) = 0.17499999701976776\n",
      "Generation 39: Best fitness (accuracy) = 0.17499999701976776\n",
      "Generation 40: Best fitness (accuracy) = 0.20000000298023224\n",
      "Generation 41: Best fitness (accuracy) = 0.20000000298023224\n",
      "Generation 42: Best fitness (accuracy) = 0.20000000298023224\n",
      "Generation 43: Best fitness (accuracy) = 0.20000000298023224\n",
      "Generation 44: Best fitness (accuracy) = 0.20000000298023224\n",
      "Generation 45: Best fitness (accuracy) = 0.20000000298023224\n",
      "Generation 46: Best fitness (accuracy) = 0.20000000298023224\n",
      "Generation 47: Best fitness (accuracy) = 0.20000000298023224\n",
      "Generation 48: Best fitness (accuracy) = 0.20000000298023224\n",
      "Generation 49: Best fitness (accuracy) = 0.20000000298023224\n",
      "Generation 50: Best fitness (accuracy) = 0.20000000298023224\n",
      "Generation 51: Best fitness (accuracy) = 0.20000000298023224\n"
     ]
    },
    {
     "ename": "KeyboardInterrupt",
     "evalue": "",
     "output_type": "error",
     "traceback": [
      "\u001b[0;31m---------------------------------------------------------------------------\u001b[0m",
      "\u001b[0;31mKeyboardInterrupt\u001b[0m                         Traceback (most recent call last)",
      "Cell \u001b[0;32mIn[20], line 3\u001b[0m\n\u001b[1;32m      1\u001b[0m train_evolv \u001b[38;5;241m=\u001b[39m train_images[:\u001b[38;5;241m1000\u001b[39m]\n\u001b[1;32m      2\u001b[0m labels_evolv \u001b[38;5;241m=\u001b[39mencoded_train_label[:\u001b[38;5;241m1000\u001b[39m]\n\u001b[0;32m----> 3\u001b[0m best_solution \u001b[38;5;241m=\u001b[39m \u001b[43mevolve\u001b[49m\u001b[43m(\u001b[49m\u001b[43mpopulation\u001b[49m\u001b[43m,\u001b[49m\u001b[43m \u001b[49m\u001b[43mGEN\u001b[49m\u001b[43m,\u001b[49m\u001b[43m \u001b[49m\u001b[43mNP\u001b[49m\u001b[43m,\u001b[49m\u001b[43m \u001b[49m\u001b[43mD\u001b[49m\u001b[43m,\u001b[49m\u001b[43m \u001b[49m\u001b[43mF\u001b[49m\u001b[43m,\u001b[49m\u001b[43m \u001b[49m\u001b[43mCR\u001b[49m\u001b[43m,\u001b[49m\u001b[43m \u001b[49m\u001b[43mmodel\u001b[49m\u001b[43m,\u001b[49m\u001b[43m \u001b[49m\u001b[43mtrain_evolv\u001b[49m\u001b[43m,\u001b[49m\u001b[43m \u001b[49m\u001b[43mlabels_evolv\u001b[49m\u001b[43m,\u001b[49m\u001b[43m \u001b[49m\u001b[43mL\u001b[49m\u001b[43m,\u001b[49m\u001b[43m \u001b[49m\u001b[43mH\u001b[49m\u001b[43m)\u001b[49m\n",
      "Cell \u001b[0;32mIn[19], line 16\u001b[0m, in \u001b[0;36mevolve\u001b[0;34m(population, GEN, NP, D, F, CR, model, x_train, y_train, L, H)\u001b[0m\n\u001b[1;32m     13\u001b[0m target_vector \u001b[38;5;241m=\u001b[39m population[j]\n\u001b[1;32m     14\u001b[0m trial_vector \u001b[38;5;241m=\u001b[39m crossover(target_vector, mutant_child, CR, D)\n\u001b[0;32m---> 16\u001b[0m trial_fitness \u001b[38;5;241m=\u001b[39m \u001b[43mfitness_function\u001b[49m\u001b[43m(\u001b[49m\u001b[43mx_train\u001b[49m\u001b[43m,\u001b[49m\u001b[43m \u001b[49m\u001b[43my_train\u001b[49m\u001b[43m,\u001b[49m\u001b[43m \u001b[49m\u001b[43mmodel\u001b[49m\u001b[43m,\u001b[49m\u001b[43m \u001b[49m\u001b[43mtrial_vector\u001b[49m\u001b[43m)\u001b[49m\n\u001b[1;32m     17\u001b[0m target_fitness \u001b[38;5;241m=\u001b[39m fitness_function(x_train, y_train, model, target_vector)\n\u001b[1;32m     19\u001b[0m \u001b[38;5;28;01mif\u001b[39;00m trial_fitness \u001b[38;5;241m>\u001b[39m target_fitness:  \u001b[38;5;66;03m# Higher is better for accuracy\u001b[39;00m\n",
      "Cell \u001b[0;32mIn[8], line 14\u001b[0m, in \u001b[0;36mfitness_function\u001b[0;34m(x_train, y_train, original_model, weight_vector)\u001b[0m\n\u001b[1;32m      6\u001b[0m return_weights_toModel(model_copy, weight_vector)\n\u001b[1;32m      8\u001b[0m model_copy\u001b[38;5;241m.\u001b[39mcompile(\n\u001b[1;32m      9\u001b[0m     optimizer\u001b[38;5;241m=\u001b[39m\u001b[38;5;124m'\u001b[39m\u001b[38;5;124madam\u001b[39m\u001b[38;5;124m'\u001b[39m,\n\u001b[1;32m     10\u001b[0m     loss\u001b[38;5;241m=\u001b[39m\u001b[38;5;124m'\u001b[39m\u001b[38;5;124mcategorical_crossentropy\u001b[39m\u001b[38;5;124m'\u001b[39m,\n\u001b[1;32m     11\u001b[0m     metrics\u001b[38;5;241m=\u001b[39m[\u001b[38;5;124m'\u001b[39m\u001b[38;5;124maccuracy\u001b[39m\u001b[38;5;124m'\u001b[39m] \n\u001b[1;32m     12\u001b[0m )\n\u001b[0;32m---> 14\u001b[0m loss,accuracy \u001b[38;5;241m=\u001b[39m \u001b[43mmodel_copy\u001b[49m\u001b[38;5;241;43m.\u001b[39;49m\u001b[43mevaluate\u001b[49m\u001b[43m(\u001b[49m\u001b[43mx_train\u001b[49m\u001b[43m,\u001b[49m\u001b[43m \u001b[49m\u001b[43my_train\u001b[49m\u001b[43m,\u001b[49m\u001b[43m \u001b[49m\u001b[43mverbose\u001b[49m\u001b[38;5;241;43m=\u001b[39;49m\u001b[38;5;241;43m0\u001b[39;49m\u001b[43m)\u001b[49m  \u001b[38;5;66;03m# verbose because when testing i got alot of green bars\u001b[39;00m\n\u001b[1;32m     17\u001b[0m \u001b[38;5;28;01mreturn\u001b[39;00m accuracy\n",
      "File \u001b[0;32m~/.local/lib/python3.11/site-packages/keras/src/utils/traceback_utils.py:117\u001b[0m, in \u001b[0;36mfilter_traceback.<locals>.error_handler\u001b[0;34m(*args, **kwargs)\u001b[0m\n\u001b[1;32m    115\u001b[0m filtered_tb \u001b[38;5;241m=\u001b[39m \u001b[38;5;28;01mNone\u001b[39;00m\n\u001b[1;32m    116\u001b[0m \u001b[38;5;28;01mtry\u001b[39;00m:\n\u001b[0;32m--> 117\u001b[0m     \u001b[38;5;28;01mreturn\u001b[39;00m \u001b[43mfn\u001b[49m\u001b[43m(\u001b[49m\u001b[38;5;241;43m*\u001b[39;49m\u001b[43margs\u001b[49m\u001b[43m,\u001b[49m\u001b[43m \u001b[49m\u001b[38;5;241;43m*\u001b[39;49m\u001b[38;5;241;43m*\u001b[39;49m\u001b[43mkwargs\u001b[49m\u001b[43m)\u001b[49m\n\u001b[1;32m    118\u001b[0m \u001b[38;5;28;01mexcept\u001b[39;00m \u001b[38;5;167;01mException\u001b[39;00m \u001b[38;5;28;01mas\u001b[39;00m e:\n\u001b[1;32m    119\u001b[0m     filtered_tb \u001b[38;5;241m=\u001b[39m _process_traceback_frames(e\u001b[38;5;241m.\u001b[39m__traceback__)\n",
      "File \u001b[0;32m~/.local/lib/python3.11/site-packages/keras/src/backend/tensorflow/trainer.py:482\u001b[0m, in \u001b[0;36mTensorFlowTrainer.evaluate\u001b[0;34m(self, x, y, batch_size, verbose, sample_weight, steps, callbacks, return_dict, **kwargs)\u001b[0m\n\u001b[1;32m    480\u001b[0m \u001b[38;5;28mself\u001b[39m\u001b[38;5;241m.\u001b[39mreset_metrics()\n\u001b[1;32m    481\u001b[0m \u001b[38;5;28;01mwith\u001b[39;00m epoch_iterator\u001b[38;5;241m.\u001b[39mcatch_stop_iteration():\n\u001b[0;32m--> 482\u001b[0m \u001b[43m    \u001b[49m\u001b[38;5;28;43;01mfor\u001b[39;49;00m\u001b[43m \u001b[49m\u001b[43mstep\u001b[49m\u001b[43m,\u001b[49m\u001b[43m \u001b[49m\u001b[43miterator\u001b[49m\u001b[43m \u001b[49m\u001b[38;5;129;43;01min\u001b[39;49;00m\u001b[43m \u001b[49m\u001b[43mepoch_iterator\u001b[49m\u001b[43m:\u001b[49m\n\u001b[1;32m    483\u001b[0m \u001b[43m        \u001b[49m\u001b[43mcallbacks\u001b[49m\u001b[38;5;241;43m.\u001b[39;49m\u001b[43mon_test_batch_begin\u001b[49m\u001b[43m(\u001b[49m\u001b[43mstep\u001b[49m\u001b[43m)\u001b[49m\n\u001b[1;32m    484\u001b[0m \u001b[43m        \u001b[49m\u001b[43mlogs\u001b[49m\u001b[43m \u001b[49m\u001b[38;5;241;43m=\u001b[39;49m\u001b[43m \u001b[49m\u001b[38;5;28;43mself\u001b[39;49m\u001b[38;5;241;43m.\u001b[39;49m\u001b[43mtest_function\u001b[49m\u001b[43m(\u001b[49m\u001b[43miterator\u001b[49m\u001b[43m)\u001b[49m\n",
      "File \u001b[0;32m~/.local/lib/python3.11/site-packages/keras/src/backend/tensorflow/trainer.py:736\u001b[0m, in \u001b[0;36mTFEpochIterator.__next__\u001b[0;34m(self)\u001b[0m\n\u001b[1;32m    735\u001b[0m \u001b[38;5;28;01mdef\u001b[39;00m\u001b[38;5;250m \u001b[39m\u001b[38;5;21m__next__\u001b[39m(\u001b[38;5;28mself\u001b[39m):\n\u001b[0;32m--> 736\u001b[0m     \u001b[38;5;28;01mreturn\u001b[39;00m \u001b[38;5;28mnext\u001b[39m(\u001b[38;5;28mself\u001b[39m\u001b[38;5;241m.\u001b[39m_epoch_iterator)\n",
      "File \u001b[0;32m~/.local/lib/python3.11/site-packages/keras/src/trainers/epoch_iterator.py:102\u001b[0m, in \u001b[0;36mEpochIterator._enumerate_iterator\u001b[0;34m(self)\u001b[0m\n\u001b[1;32m    100\u001b[0m \u001b[38;5;28;01mif\u001b[39;00m steps_per_epoch \u001b[38;5;241m>\u001b[39m \u001b[38;5;241m0\u001b[39m:\n\u001b[1;32m    101\u001b[0m     \u001b[38;5;28;01mif\u001b[39;00m \u001b[38;5;28mself\u001b[39m\u001b[38;5;241m.\u001b[39m_current_iterator \u001b[38;5;129;01mis\u001b[39;00m \u001b[38;5;28;01mNone\u001b[39;00m \u001b[38;5;129;01mor\u001b[39;00m \u001b[38;5;28mself\u001b[39m\u001b[38;5;241m.\u001b[39msteps_per_epoch \u001b[38;5;129;01mis\u001b[39;00m \u001b[38;5;28;01mNone\u001b[39;00m:\n\u001b[0;32m--> 102\u001b[0m         \u001b[38;5;28mself\u001b[39m\u001b[38;5;241m.\u001b[39m_current_iterator \u001b[38;5;241m=\u001b[39m \u001b[38;5;28miter\u001b[39m(\u001b[38;5;28mself\u001b[39m\u001b[38;5;241m.\u001b[39m_get_iterator())\n\u001b[1;32m    103\u001b[0m         \u001b[38;5;28mself\u001b[39m\u001b[38;5;241m.\u001b[39m_steps_seen \u001b[38;5;241m=\u001b[39m \u001b[38;5;241m0\u001b[39m\n\u001b[1;32m    104\u001b[0m     \u001b[38;5;28;01mfor\u001b[39;00m step \u001b[38;5;129;01min\u001b[39;00m \u001b[38;5;28mrange\u001b[39m(\u001b[38;5;241m0\u001b[39m, steps_per_epoch, \u001b[38;5;28mself\u001b[39m\u001b[38;5;241m.\u001b[39msteps_per_execution):\n",
      "File \u001b[0;32m~/.local/lib/python3.11/site-packages/tensorflow/python/data/ops/dataset_ops.py:501\u001b[0m, in \u001b[0;36mDatasetV2.__iter__\u001b[0;34m(self)\u001b[0m\n\u001b[1;32m    499\u001b[0m \u001b[38;5;28;01mif\u001b[39;00m context\u001b[38;5;241m.\u001b[39mexecuting_eagerly() \u001b[38;5;129;01mor\u001b[39;00m ops\u001b[38;5;241m.\u001b[39minside_function():\n\u001b[1;32m    500\u001b[0m   \u001b[38;5;28;01mwith\u001b[39;00m ops\u001b[38;5;241m.\u001b[39mcolocate_with(\u001b[38;5;28mself\u001b[39m\u001b[38;5;241m.\u001b[39m_variant_tensor):\n\u001b[0;32m--> 501\u001b[0m     \u001b[38;5;28;01mreturn\u001b[39;00m \u001b[43miterator_ops\u001b[49m\u001b[38;5;241;43m.\u001b[39;49m\u001b[43mOwnedIterator\u001b[49m\u001b[43m(\u001b[49m\u001b[38;5;28;43mself\u001b[39;49m\u001b[43m)\u001b[49m\n\u001b[1;32m    502\u001b[0m \u001b[38;5;28;01melse\u001b[39;00m:\n\u001b[1;32m    503\u001b[0m   \u001b[38;5;28;01mraise\u001b[39;00m \u001b[38;5;167;01mRuntimeError\u001b[39;00m(\u001b[38;5;124m\"\u001b[39m\u001b[38;5;124m`tf.data.Dataset` only supports Python-style \u001b[39m\u001b[38;5;124m\"\u001b[39m\n\u001b[1;32m    504\u001b[0m                      \u001b[38;5;124m\"\u001b[39m\u001b[38;5;124miteration in eager mode or within tf.function.\u001b[39m\u001b[38;5;124m\"\u001b[39m)\n",
      "File \u001b[0;32m~/.local/lib/python3.11/site-packages/tensorflow/python/data/ops/iterator_ops.py:709\u001b[0m, in \u001b[0;36mOwnedIterator.__init__\u001b[0;34m(self, dataset, components, element_spec)\u001b[0m\n\u001b[1;32m    705\u001b[0m   \u001b[38;5;28;01mif\u001b[39;00m (components \u001b[38;5;129;01mis\u001b[39;00m \u001b[38;5;129;01mnot\u001b[39;00m \u001b[38;5;28;01mNone\u001b[39;00m \u001b[38;5;129;01mor\u001b[39;00m element_spec \u001b[38;5;129;01mis\u001b[39;00m \u001b[38;5;129;01mnot\u001b[39;00m \u001b[38;5;28;01mNone\u001b[39;00m):\n\u001b[1;32m    706\u001b[0m     \u001b[38;5;28;01mraise\u001b[39;00m \u001b[38;5;167;01mValueError\u001b[39;00m(\n\u001b[1;32m    707\u001b[0m         \u001b[38;5;124m\"\u001b[39m\u001b[38;5;124mWhen `dataset` is provided, `element_spec` and `components` must \u001b[39m\u001b[38;5;124m\"\u001b[39m\n\u001b[1;32m    708\u001b[0m         \u001b[38;5;124m\"\u001b[39m\u001b[38;5;124mnot be specified.\u001b[39m\u001b[38;5;124m\"\u001b[39m)\n\u001b[0;32m--> 709\u001b[0m   \u001b[38;5;28;43mself\u001b[39;49m\u001b[38;5;241;43m.\u001b[39;49m\u001b[43m_create_iterator\u001b[49m\u001b[43m(\u001b[49m\u001b[43mdataset\u001b[49m\u001b[43m)\u001b[49m\n\u001b[1;32m    711\u001b[0m \u001b[38;5;28mself\u001b[39m\u001b[38;5;241m.\u001b[39m_get_next_call_count \u001b[38;5;241m=\u001b[39m \u001b[38;5;241m0\u001b[39m\n",
      "File \u001b[0;32m~/.local/lib/python3.11/site-packages/tensorflow/python/data/ops/iterator_ops.py:748\u001b[0m, in \u001b[0;36mOwnedIterator._create_iterator\u001b[0;34m(self, dataset)\u001b[0m\n\u001b[1;32m    745\u001b[0m   \u001b[38;5;28;01massert\u001b[39;00m \u001b[38;5;28mlen\u001b[39m(fulltype\u001b[38;5;241m.\u001b[39margs[\u001b[38;5;241m0\u001b[39m]\u001b[38;5;241m.\u001b[39margs[\u001b[38;5;241m0\u001b[39m]\u001b[38;5;241m.\u001b[39margs) \u001b[38;5;241m==\u001b[39m \u001b[38;5;28mlen\u001b[39m(\n\u001b[1;32m    746\u001b[0m       \u001b[38;5;28mself\u001b[39m\u001b[38;5;241m.\u001b[39m_flat_output_types)\n\u001b[1;32m    747\u001b[0m   \u001b[38;5;28mself\u001b[39m\u001b[38;5;241m.\u001b[39m_iterator_resource\u001b[38;5;241m.\u001b[39mop\u001b[38;5;241m.\u001b[39mexperimental_set_type(fulltype)\n\u001b[0;32m--> 748\u001b[0m \u001b[43mgen_dataset_ops\u001b[49m\u001b[38;5;241;43m.\u001b[39;49m\u001b[43mmake_iterator\u001b[49m\u001b[43m(\u001b[49m\u001b[43mds_variant\u001b[49m\u001b[43m,\u001b[49m\u001b[43m \u001b[49m\u001b[38;5;28;43mself\u001b[39;49m\u001b[38;5;241;43m.\u001b[39;49m\u001b[43m_iterator_resource\u001b[49m\u001b[43m)\u001b[49m\n",
      "File \u001b[0;32m~/.local/lib/python3.11/site-packages/tensorflow/python/ops/gen_dataset_ops.py:3478\u001b[0m, in \u001b[0;36mmake_iterator\u001b[0;34m(dataset, iterator, name)\u001b[0m\n\u001b[1;32m   3476\u001b[0m \u001b[38;5;28;01mif\u001b[39;00m tld\u001b[38;5;241m.\u001b[39mis_eager:\n\u001b[1;32m   3477\u001b[0m   \u001b[38;5;28;01mtry\u001b[39;00m:\n\u001b[0;32m-> 3478\u001b[0m     _result \u001b[38;5;241m=\u001b[39m \u001b[43mpywrap_tfe\u001b[49m\u001b[38;5;241;43m.\u001b[39;49m\u001b[43mTFE_Py_FastPathExecute\u001b[49m\u001b[43m(\u001b[49m\n\u001b[1;32m   3479\u001b[0m \u001b[43m      \u001b[49m\u001b[43m_ctx\u001b[49m\u001b[43m,\u001b[49m\u001b[43m \u001b[49m\u001b[38;5;124;43m\"\u001b[39;49m\u001b[38;5;124;43mMakeIterator\u001b[39;49m\u001b[38;5;124;43m\"\u001b[39;49m\u001b[43m,\u001b[49m\u001b[43m \u001b[49m\u001b[43mname\u001b[49m\u001b[43m,\u001b[49m\u001b[43m \u001b[49m\u001b[43mdataset\u001b[49m\u001b[43m,\u001b[49m\u001b[43m \u001b[49m\u001b[43miterator\u001b[49m\u001b[43m)\u001b[49m\n\u001b[1;32m   3480\u001b[0m     \u001b[38;5;28;01mreturn\u001b[39;00m _result\n\u001b[1;32m   3481\u001b[0m   \u001b[38;5;28;01mexcept\u001b[39;00m _core\u001b[38;5;241m.\u001b[39m_NotOkStatusException \u001b[38;5;28;01mas\u001b[39;00m e:\n",
      "\u001b[0;31mKeyboardInterrupt\u001b[0m: "
     ]
    }
   ],
   "source": [
    "train_evolv = train_images[:1000]\n",
    "labels_evolv =encoded_train_label[:1000]\n",
    "best_solution = evolve(population, GEN, NP, D, F, CR, model, train_evolv, labels_evolv, L, H)\n"
   ]
  },
  {
   "cell_type": "code",
   "execution_count": null,
   "metadata": {},
   "outputs": [],
   "source": [
    "best_solution"
   ]
  },
  {
   "cell_type": "code",
   "execution_count": null,
   "metadata": {},
   "outputs": [],
   "source": [
    "model_best = return_weights_toModel(model, best_solution)"
   ]
  },
  {
   "cell_type": "code",
   "execution_count": null,
   "metadata": {},
   "outputs": [],
   "source": [
    "    model_best.compile(optimizer='adam', loss='categorical_crossentropy', metrics=['accuracy'])\n",
    "    \n",
    "    accuracy = model_best.evaluate(train_images, encoded_train_label) \n"
   ]
  },
  {
   "cell_type": "code",
   "execution_count": null,
   "metadata": {},
   "outputs": [],
   "source": []
  },
  {
   "cell_type": "code",
   "execution_count": null,
   "metadata": {},
   "outputs": [],
   "source": []
  },
  {
   "cell_type": "code",
   "execution_count": null,
   "metadata": {},
   "outputs": [],
   "source": []
  },
  {
   "cell_type": "code",
   "execution_count": null,
   "metadata": {},
   "outputs": [],
   "source": []
  },
  {
   "cell_type": "code",
   "execution_count": null,
   "metadata": {},
   "outputs": [],
   "source": []
  }
 ],
 "metadata": {
  "kernelspec": {
   "display_name": "Python 3 (ipykernel)",
   "language": "python",
   "name": "python3"
  },
  "language_info": {
   "codemirror_mode": {
    "name": "ipython",
    "version": 3
   },
   "file_extension": ".py",
   "mimetype": "text/x-python",
   "name": "python",
   "nbconvert_exporter": "python",
   "pygments_lexer": "ipython3",
   "version": "3.11.11"
  }
 },
 "nbformat": 4,
 "nbformat_minor": 4
}

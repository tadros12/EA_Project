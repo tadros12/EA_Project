{
 "cells": [
  {
   "cell_type": "code",
   "execution_count": 1,
   "metadata": {},
   "outputs": [
    {
     "name": "stderr",
     "output_type": "stream",
     "text": [
      "2025-04-18 23:12:30.734256: E external/local_xla/xla/stream_executor/cuda/cuda_fft.cc:477] Unable to register cuFFT factory: Attempting to register factory for plugin cuFFT when one has already been registered\n",
      "WARNING: All log messages before absl::InitializeLog() is called are written to STDERR\n",
      "E0000 00:00:1745010750.746945   37430 cuda_dnn.cc:8310] Unable to register cuDNN factory: Attempting to register factory for plugin cuDNN when one has already been registered\n",
      "E0000 00:00:1745010750.750662   37430 cuda_blas.cc:1418] Unable to register cuBLAS factory: Attempting to register factory for plugin cuBLAS when one has already been registered\n",
      "2025-04-18 23:12:30.765134: I tensorflow/core/platform/cpu_feature_guard.cc:210] This TensorFlow binary is optimized to use available CPU instructions in performance-critical operations.\n",
      "To enable the following instructions: AVX2 FMA, in other operations, rebuild TensorFlow with the appropriate compiler flags.\n"
     ]
    }
   ],
   "source": [
    "import tensorflow as tf\n",
    "import numpy as np \n",
    "from tensorflow import keras\n"
   ]
  },
  {
   "cell_type": "code",
   "execution_count": 2,
   "metadata": {},
   "outputs": [],
   "source": [
    "from tensorflow.keras.datasets import mnist"
   ]
  },
  {
   "cell_type": "code",
   "execution_count": 3,
   "metadata": {},
   "outputs": [],
   "source": [
    "(train_images,train_labels),(test_images,test_labels) = mnist.load_data()"
   ]
  },
  {
   "cell_type": "code",
   "execution_count": 4,
   "metadata": {},
   "outputs": [
    {
     "name": "stdout",
     "output_type": "stream",
     "text": [
      "(60000, 28, 28)\n",
      "(60000,)\n",
      "(10000, 28, 28)\n",
      "(10000,)\n",
      "(60000, 784)\n",
      "(60000,)\n",
      "(10000, 784)\n",
      "(10000,)\n",
      "(60000, 10)\n",
      "(10000, 10)\n"
     ]
    }
   ],
   "source": [
    "print(train_images.shape)\n",
    "print(train_labels.shape)\n",
    "print(test_images.shape)\n",
    "print(test_labels.shape)\n",
    "train_images = train_images.reshape((60000, 28 * 28))\n",
    "train_images = train_images.astype(\"float32\") / 255\n",
    "test_images = test_images.reshape((10000, 28 * 28))\n",
    "test_images = test_images.astype(\"float32\") / 255\n",
    "print(train_images.shape)\n",
    "print(train_labels.shape)\n",
    "print(test_images.shape)\n",
    "print(test_labels.shape)\n",
    "encoded_train_label = keras.utils.to_categorical(train_labels, num_classes=10)\n",
    "encoded_test_label = keras.utils.to_categorical(test_labels, num_classes=10)\n",
    "print(encoded_train_label.shape)\n",
    "print(encoded_test_label.shape)"
   ]
  },
  {
   "cell_type": "markdown",
   "metadata": {},
   "source": [
    "# MLP realted stuff"
   ]
  },
  {
   "cell_type": "code",
   "execution_count": 5,
   "metadata": {},
   "outputs": [],
   "source": [
    "def model_create(input_dim , output_dim , hidden): # hidden here is a array each number represnet the numpber of nurons in each hidden layer\n",
    "    model = keras.Sequential()\n",
    "    model.add(keras.layers.Dense(hidden[0], input_shape=(input_dim,),activation='relu')) # input layers with dim 28*28 for our problem\n",
    "\n",
    "    for nueron in hidden[1:]:\n",
    "        model.add(keras.layers.Dense(nueron, activation='relu'))\n",
    "\n",
    "    model.add(keras.layers.Dense(output_dim, activation='softmax'))\n",
    "\n",
    "    return model\n",
    "    \n",
    "    \n",
    "    "
   ]
  },
  {
   "cell_type": "code",
   "execution_count": 6,
   "metadata": {},
   "outputs": [],
   "source": [
    "def extract_weight(model):\n",
    "    weights = []\n",
    "\n",
    "    for layer in model.layers:\n",
    "        layer_weights = layer.get_weights()\n",
    "\n",
    "        weights.extend([w.flatten() for w in layer_weights])\n",
    "    return np.concatenate(weights)\n",
    "    "
   ]
  },
  {
   "cell_type": "code",
   "execution_count": null,
   "metadata": {},
   "outputs": [],
   "source": []
  },
  {
   "cell_type": "code",
   "execution_count": 7,
   "metadata": {},
   "outputs": [],
   "source": [
    "def return_weights_toModel(model,weight_vector):\n",
    "    #save shapes\n",
    "    idx=0\n",
    "\n",
    "    for i, layer in enumerate(model.layers):  # enumerate to make no iterable items iterable reutrn index i here for example\n",
    "        layer_weight = layer.get_weights()\n",
    "\n",
    "        new_weights= [] # new list of weights\n",
    "\n",
    "        for j,w in enumerate(layer_weight): # j index from enumerate i didnt used it because i dont need it \n",
    "            \n",
    "            n_weights = w.size\n",
    "\n",
    "            new_w = weight_vector[idx:idx + n_weights].reshape(w.shape)\n",
    "\n",
    "            new_weights.append(new_w)\n",
    "\n",
    "            idx += n_weights\n",
    "\n",
    "        layer.set_weights(new_weights)\n",
    "\n",
    "    return model  # model with updated layers\n",
    "    "
   ]
  },
  {
   "cell_type": "markdown",
   "metadata": {},
   "source": [
    "# fitness function"
   ]
  },
  {
   "cell_type": "code",
   "execution_count": 8,
   "metadata": {},
   "outputs": [],
   "source": [
    "def fitness_function(x_train, y_train, original_model, weight_vector):\n",
    "\n",
    "    model_copy = keras.models.clone_model(original_model) # model with new wieght to test with \n",
    "    model_copy.build(original_model.input_shape) # without build : erorr weight is not defined in next line when i try to set weight\n",
    "\n",
    "    return_weights_toModel(model_copy, weight_vector)\n",
    "\n",
    "    y_pred = model_copy.predict(x_train)\n",
    "\n",
    "    mse = np.mean((y_pred-y_train)**2)\n",
    "\n",
    "    return mse\n",
    "    "
   ]
  },
  {
   "cell_type": "code",
   "execution_count": 11,
   "metadata": {},
   "outputs": [
    {
     "name": "stdout",
     "output_type": "stream",
     "text": [
      "[ 0.04486583 -0.00590992 -0.02085369 ...  0.          0.\n",
      "  0.        ]\n",
      "\u001b[1m1875/1875\u001b[0m \u001b[32m━━━━━━━━━━━━━━━━━━━━\u001b[0m\u001b[37m\u001b[0m \u001b[1m1s\u001b[0m 634us/step\n",
      "mse is :  0.09169128556269036\n"
     ]
    }
   ],
   "source": [
    "# test example \n",
    "model = model_create(input_dim=28*28 , output_dim=10 , hidden=[100])\n",
    "\n",
    "weight_vecotor_test = extract_weight(model)\n",
    "print(weight_vecotor_test)\n",
    "\n",
    "mse = fitness_function(train_images,encoded_train_label, model, weight_vecotor_test)\n",
    "print(\"mse is : \",mse)"
   ]
  },
  {
   "cell_type": "markdown",
   "metadata": {},
   "source": [
    "# intialzation function"
   ]
  },
  {
   "cell_type": "code",
   "execution_count": 12,
   "metadata": {},
   "outputs": [],
   "source": [
    "tf.random.set_seed(24)\n",
    "\n",
    "def intialize_population(model, population_size, min_val=0 , max_val=1.0):\n",
    "\n",
    "    weights = extract_weight(model) # to get the length to create the new at the same size\n",
    "\n",
    "    num_weights = len(weights)\n",
    "\n",
    "    population = tf.random.uniform(\n",
    "        shape = (population_size, num_weights),\n",
    "        minval=min_val,\n",
    "        maxval=max_val,\n",
    "        dtype = tf.float32\n",
    "        \n",
    "    )\n",
    "\n",
    "    population_np = population.numpy()\n",
    "\n",
    "\n",
    "    return population_np\n",
    "    "
   ]
  },
  {
   "cell_type": "code",
   "execution_count": null,
   "metadata": {},
   "outputs": [],
   "source": [
    "# tes"
   ]
  }
 ],
 "metadata": {
  "kernelspec": {
   "display_name": "Python 3 (ipykernel)",
   "language": "python",
   "name": "python3"
  },
  "language_info": {
   "codemirror_mode": {
    "name": "ipython",
    "version": 3
   },
   "file_extension": ".py",
   "mimetype": "text/x-python",
   "name": "python",
   "nbconvert_exporter": "python",
   "pygments_lexer": "ipython3",
   "version": "3.11.11"
  }
 },
 "nbformat": 4,
 "nbformat_minor": 4
}

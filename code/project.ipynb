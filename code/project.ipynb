{
 "cells": [
  {
   "cell_type": "code",
   "execution_count": 1,
   "metadata": {},
   "outputs": [
    {
     "name": "stderr",
     "output_type": "stream",
     "text": [
      "2025-04-19 22:16:30.218747: E external/local_xla/xla/stream_executor/cuda/cuda_fft.cc:477] Unable to register cuFFT factory: Attempting to register factory for plugin cuFFT when one has already been registered\n",
      "WARNING: All log messages before absl::InitializeLog() is called are written to STDERR\n",
      "E0000 00:00:1745093790.231405   62432 cuda_dnn.cc:8310] Unable to register cuDNN factory: Attempting to register factory for plugin cuDNN when one has already been registered\n",
      "E0000 00:00:1745093790.235185   62432 cuda_blas.cc:1418] Unable to register cuBLAS factory: Attempting to register factory for plugin cuBLAS when one has already been registered\n",
      "2025-04-19 22:16:30.250010: I tensorflow/core/platform/cpu_feature_guard.cc:210] This TensorFlow binary is optimized to use available CPU instructions in performance-critical operations.\n",
      "To enable the following instructions: AVX2 FMA, in other operations, rebuild TensorFlow with the appropriate compiler flags.\n"
     ]
    }
   ],
   "source": [
    "import tensorflow as tf\n",
    "import numpy as np \n",
    "from tensorflow import keras\n"
   ]
  },
  {
   "cell_type": "code",
   "execution_count": 2,
   "metadata": {},
   "outputs": [],
   "source": [
    "from tensorflow.keras.datasets import mnist"
   ]
  },
  {
   "cell_type": "code",
   "execution_count": 3,
   "metadata": {},
   "outputs": [],
   "source": [
    "(train_images,train_labels),(test_images,test_labels) = mnist.load_data()"
   ]
  },
  {
   "cell_type": "code",
   "execution_count": 4,
   "metadata": {},
   "outputs": [
    {
     "name": "stdout",
     "output_type": "stream",
     "text": [
      "(60000, 28, 28)\n",
      "(60000,)\n",
      "(10000, 28, 28)\n",
      "(10000,)\n",
      "(60000, 784)\n",
      "(60000,)\n",
      "(10000, 784)\n",
      "(10000,)\n",
      "(60000, 10)\n",
      "(10000, 10)\n"
     ]
    }
   ],
   "source": [
    "print(train_images.shape)\n",
    "print(train_labels.shape)\n",
    "print(test_images.shape)\n",
    "print(test_labels.shape)\n",
    "train_images = train_images.reshape((60000, 28 * 28))\n",
    "train_images = train_images.astype(\"float32\") / 255\n",
    "test_images = test_images.reshape((10000, 28 * 28))\n",
    "test_images = test_images.astype(\"float32\") / 255\n",
    "print(train_images.shape)\n",
    "print(train_labels.shape)\n",
    "print(test_images.shape)\n",
    "print(test_labels.shape)\n",
    "encoded_train_label = keras.utils.to_categorical(train_labels, num_classes=10)\n",
    "encoded_test_label = keras.utils.to_categorical(test_labels, num_classes=10)\n",
    "print(encoded_train_label.shape)\n",
    "print(encoded_test_label.shape)"
   ]
  },
  {
   "cell_type": "markdown",
   "metadata": {},
   "source": [
    "# MLP realted stuff"
   ]
  },
  {
   "cell_type": "code",
   "execution_count": 5,
   "metadata": {},
   "outputs": [],
   "source": [
    "def model_create(input_dim , output_dim , hidden): # hidden here is a array each number represnet the numpber of nurons in each hidden layer\n",
    "    model = keras.Sequential()\n",
    "    model.add(keras.layers.Dense(hidden[0], input_shape=(input_dim,),activation='relu')) # input layers with dim 28*28 for our problem\n",
    "\n",
    "    for nueron in hidden[1:]:\n",
    "        model.add(keras.layers.Dense(nueron, activation='relu'))\n",
    "\n",
    "    model.add(keras.layers.Dense(output_dim, activation='softmax'))\n",
    "\n",
    "    return model\n",
    "    \n",
    "    \n",
    "    "
   ]
  },
  {
   "cell_type": "code",
   "execution_count": 6,
   "metadata": {},
   "outputs": [],
   "source": [
    "def extract_weight(model):\n",
    "    weights = []\n",
    "\n",
    "    for layer in model.layers:\n",
    "        layer_weights = layer.get_weights()\n",
    "\n",
    "        weights.extend([w.flatten() for w in layer_weights])\n",
    "    return np.concatenate(weights)\n",
    "    "
   ]
  },
  {
   "cell_type": "code",
   "execution_count": null,
   "metadata": {},
   "outputs": [],
   "source": []
  },
  {
   "cell_type": "code",
   "execution_count": 7,
   "metadata": {},
   "outputs": [],
   "source": [
    "def return_weights_toModel(model,weight_vector):\n",
    "    #save shapes\n",
    "    idx=0\n",
    "\n",
    "    for i, layer in enumerate(model.layers):  # enumerate to make no iterable items iterable reutrn index i here for example\n",
    "        layer_weight = layer.get_weights()\n",
    "\n",
    "        new_weights= [] # new list of weights\n",
    "\n",
    "        for j,w in enumerate(layer_weight): # j index from enumerate i didnt used it because i dont need it \n",
    "            \n",
    "            n_weights = w.size\n",
    "\n",
    "            new_w = weight_vector[idx:idx + n_weights].reshape(w.shape)\n",
    "\n",
    "            new_weights.append(new_w)\n",
    "\n",
    "            idx += n_weights\n",
    "\n",
    "        layer.set_weights(new_weights)\n",
    "\n",
    "    return model  # model with updated layers\n",
    "    "
   ]
  },
  {
   "cell_type": "markdown",
   "metadata": {},
   "source": [
    "# fitness function"
   ]
  },
  {
   "cell_type": "code",
   "execution_count": 8,
   "metadata": {},
   "outputs": [],
   "source": [
    "def fitness_function(x_train, y_train, original_model, weight_vector):\n",
    "\n",
    "    model_copy = keras.models.clone_model(original_model) # model with new wieght to test with \n",
    "    model_copy.build(original_model.input_shape) # without build : erorr weight is not defined in next line when i try to set weight\n",
    "\n",
    "    return_weights_toModel(model_copy, weight_vector)\n",
    "\n",
    "    y_pred = model_copy.predict(x_train, verbose = 0)  # verbose because when testing i got alot of green bars\n",
    "\n",
    "    mse = np.mean((y_pred-y_train)**2)\n",
    "\n",
    "    return mse\n",
    "    "
   ]
  },
  {
   "cell_type": "code",
   "execution_count": 9,
   "metadata": {},
   "outputs": [
    {
     "name": "stderr",
     "output_type": "stream",
     "text": [
      "/home/theodoros/.local/lib/python3.11/site-packages/keras/src/layers/core/dense.py:87: UserWarning: Do not pass an `input_shape`/`input_dim` argument to a layer. When using Sequential models, prefer using an `Input(shape)` object as the first layer in the model instead.\n",
      "  super().__init__(activity_regularizer=activity_regularizer, **kwargs)\n",
      "I0000 00:00:1745093792.920044   62432 gpu_device.cc:2022] Created device /job:localhost/replica:0/task:0/device:GPU:0 with 2169 MB memory:  -> device: 0, name: NVIDIA GeForce RTX 3050 Laptop GPU, pci bus id: 0000:01:00.0, compute capability: 8.6\n"
     ]
    }
   ],
   "source": [
    "# test example \n",
    "model = model_create(input_dim=28*28 , output_dim=10 , hidden=[128, 64])\n",
    "\n",
    "# weight_vecotor_test = extract_weight(model)\n",
    "# print(weight_vecotor_test)\n",
    "\n",
    "# mse = fitness_function(train_images,encoded_train_label, model, weight_vecotor_test)\n",
    "# print(\"mse is : \",mse)"
   ]
  },
  {
   "cell_type": "markdown",
   "metadata": {},
   "source": [
    "# intialzation function\n",
    "\n",
    "DONT FORGET HERE WHERE YOU SET SEED!!!!\n"
   ]
  },
  {
   "cell_type": "code",
   "execution_count": 10,
   "metadata": {},
   "outputs": [],
   "source": [
    "tf.random.set_seed(24)\n",
    "np.random.seed(24)\n",
    "def intialize_population(model, population_size, min_val=0 , max_val=1.0):\n",
    "\n",
    "    weights = extract_weight(model) # to get the length to create the new at the same size\n",
    "\n",
    "    num_weights = len(weights)\n",
    "\n",
    "    population = tf.random.uniform(\n",
    "        shape = (population_size, num_weights),\n",
    "        minval=min_val,\n",
    "        maxval=max_val,\n",
    "        dtype = tf.float32\n",
    "        \n",
    "    )\n",
    "\n",
    "    population_np = population.numpy()\n",
    "\n",
    "\n",
    "    return population_np\n",
    "    "
   ]
  },
  {
   "cell_type": "code",
   "execution_count": 11,
   "metadata": {},
   "outputs": [],
   "source": [
    "# test\n",
    "NP=50\n",
    "population=intialize_population(model,NP)"
   ]
  },
  {
   "cell_type": "code",
   "execution_count": 12,
   "metadata": {},
   "outputs": [
    {
     "data": {
      "text/plain": [
       "(50, 109386)"
      ]
     },
     "execution_count": 12,
     "metadata": {},
     "output_type": "execute_result"
    }
   ],
   "source": [
    "population.shape\n"
   ]
  },
  {
   "cell_type": "code",
   "execution_count": 13,
   "metadata": {},
   "outputs": [
    {
     "data": {
      "text/plain": [
       "array([[1.0927987e-01, 2.6020873e-01, 7.6336312e-01, ..., 8.7342978e-02,\n",
       "        1.6738796e-01, 6.6254306e-01],\n",
       "       [6.9227087e-01, 8.9834833e-01, 5.0921440e-02, ..., 1.6340446e-01,\n",
       "        5.5001867e-01, 9.5739567e-01],\n",
       "       [1.5715349e-01, 2.7154517e-01, 5.6872332e-01, ..., 9.8758745e-01,\n",
       "        3.3684015e-01, 2.8134251e-01],\n",
       "       ...,\n",
       "       [9.9860299e-01, 4.0754485e-01, 1.3082123e-01, ..., 1.6905189e-02,\n",
       "        5.1319790e-01, 1.0518670e-01],\n",
       "       [8.6600184e-02, 6.5608263e-01, 5.6756139e-02, ..., 7.0166588e-04,\n",
       "        3.8239145e-01, 3.4961450e-01],\n",
       "       [4.8993933e-01, 6.6210663e-01, 2.8561831e-01, ..., 2.7826297e-01,\n",
       "        5.9237313e-01, 2.4088395e-01]], dtype=float32)"
      ]
     },
     "execution_count": 13,
     "metadata": {},
     "output_type": "execute_result"
    }
   ],
   "source": [
    "population"
   ]
  },
  {
   "cell_type": "code",
   "execution_count": 14,
   "metadata": {},
   "outputs": [
    {
     "name": "stdout",
     "output_type": "stream",
     "text": [
      "number of genes is :  109386\n"
     ]
    }
   ],
   "source": [
    "D = len(extract_weight(model))\n",
    "print(\"number of genes is : \",D)"
   ]
  },
  {
   "cell_type": "code",
   "execution_count": 15,
   "metadata": {},
   "outputs": [],
   "source": [
    "# other parmeters\n",
    "\n",
    "F = 0.5\n",
    "CR = 0.7\n",
    "GEN= 50\n",
    "\n",
    "# constrains\n",
    "\n",
    "L= 0\n",
    "H= 1\n"
   ]
  },
  {
   "cell_type": "code",
   "execution_count": 16,
   "metadata": {},
   "outputs": [
    {
     "name": "stdout",
     "output_type": "stream",
     "text": [
      "[0.22964787 0.71556854 0.90497446 ... 0.1088599  0.2691307  0.8829876 ]\n",
      "(109386,)\n"
     ]
    }
   ],
   "source": [
    "# selection for the 3 random parent i prreffered to make it a function for editing later \n",
    "def random_vectors(population, current_index):\n",
    "    \n",
    "    population_size = population.shape[0]\n",
    "\n",
    "    # remove the target vectory  \n",
    "\n",
    "    population2 = list(range(population_size))\n",
    "    population2.remove(current_index)\n",
    "\n",
    "    # choosing indices \n",
    "    indexs = np.random.choice(population2, size=3 , replace=False)\n",
    "\n",
    "    v1 = population[indexs[0]]\n",
    "    v2 = population[indexs[1]]\n",
    "    v3 = population[indexs[2]]\n",
    "\n",
    "    return v1, v2, v3\n",
    "\n",
    "\n",
    "\n",
    "# test \n",
    "\n",
    "x1,x2,x3 = random_vectors(population,5)\n",
    "print(x2)\n",
    "print(x2.shape)\n",
    "\n",
    "# dont forget to check glitch with seed here later \n",
    "    "
   ]
  },
  {
   "cell_type": "markdown",
   "metadata": {},
   "source": [
    "# mutation and crossover function"
   ]
  },
  {
   "cell_type": "code",
   "execution_count": 17,
   "metadata": {},
   "outputs": [
    {
     "name": "stdout",
     "output_type": "stream",
     "text": [
      "(109386,)\n",
      "[0.8072193  0.44559139 0.32028013 ... 0.40904623 0.8491503  0.16832966]\n"
     ]
    }
   ],
   "source": [
    "def mutate(x1,x2,x3 , F, D,L=0, H=1):\n",
    "    v = np.zeros(D)\n",
    "    \n",
    "    for i in range(D):\n",
    "        v[i] = x3[i]+ F* (x1[i] - x2[i])\n",
    "\n",
    "        if v[i] < L or v[i] > H:\n",
    "            v[i] = L + np.random.random() * (H - L) # (h-l ) to normalize the random number to fit between them\n",
    "\n",
    "    return v\n",
    "\n",
    "# the old version had  a problem handling constrains \n",
    "\n",
    "# def mutate (x1,x2,x3,F):\n",
    "#     v = x3+F*(x1-x2)\n",
    "\n",
    "#     return v\n",
    "\n",
    "\n",
    "# test \n",
    "v = mutate(x1,x2,x3 ,.9 ,D)\n",
    "print(v.shape)\n",
    "print (v)"
   ]
  },
  {
   "cell_type": "code",
   "execution_count": 18,
   "metadata": {},
   "outputs": [],
   "source": [
    "def crossover(target_vector , mutant_vector ,CR,D):\n",
    "\n",
    "    trial_vector = np.zeros(D)\n",
    "\n",
    "    for i in range(D):\n",
    "        r = np.random.random()\n",
    "    \n",
    "        if r < CR:\n",
    "            trial_vector[i] = mutant_vector[i]\n",
    "\n",
    "        else:\n",
    "            trial_vector[i] = target_vector[i]\n",
    "\n",
    "    return trial_vector\n",
    "    \n",
    "        \n",
    "\n",
    "    \n",
    "    "
   ]
  },
  {
   "cell_type": "code",
   "execution_count": 19,
   "metadata": {},
   "outputs": [],
   "source": [
    "def evolve(population, GEN, NP, D, F, CR, model, x_train, y_train, L=0, H=1):\n",
    "    \n",
    "    for g in range(GEN):\n",
    "        for j in range(NP):\n",
    "            # now choosing 3 random vectors to calculate \n",
    "            v1, v2, v3 = random_vectors(population, j)\n",
    "\n",
    "            mutant_child = mutate(v1, v2, v3, F, D, L, H)\n",
    "\n",
    "            target_vector = population[j]\n",
    "\n",
    "            trial_vector = crossover(target_vector, mutant_child, CR, D)\n",
    "\n",
    "            trial_fitness = fitness_function(x_train, y_train, model, trial_vector)\n",
    "            target_fitness = fitness_function(x_train, y_train, model, target_vector)\n",
    "\n",
    "            if trial_fitness < target_fitness:\n",
    "                population[j] = trial_vector\n",
    "\n",
    "                # end of DE\n",
    "        \n",
    "        best_fitness = float('inf')\n",
    "        best_index = 0\n",
    "        for i in range(NP):\n",
    "            current_fitness = fitness_function(x_train, y_train, model, population[i])\n",
    "            if current_fitness < best_fitness:\n",
    "                best_fitness = current_fitness\n",
    "                best_index = i\n",
    "                \n",
    "        print(f\"Generation {g}: Best fitness = {best_fitness}\")\n",
    "        # remmemper to add random migrant to keep diversity\n",
    "    \n",
    "    best_solution = population[best_index]\n",
    "    return best_solution"
   ]
  },
  {
   "cell_type": "code",
   "execution_count": null,
   "metadata": {},
   "outputs": [
    {
     "name": "stderr",
     "output_type": "stream",
     "text": [
      "WARNING: All log messages before absl::InitializeLog() is called are written to STDERR\n",
      "I0000 00:00:1745093794.056364   62511 service.cc:148] XLA service 0x7fdc90005420 initialized for platform CUDA (this does not guarantee that XLA will be used). Devices:\n",
      "I0000 00:00:1745093794.056386   62511 service.cc:156]   StreamExecutor device (0): NVIDIA GeForce RTX 3050 Laptop GPU, Compute Capability 8.6\n",
      "2025-04-19 22:16:34.060984: I tensorflow/compiler/mlir/tensorflow/utils/dump_mlir_util.cc:268] disabling MLIR crash reproducer, set env var `MLIR_CRASH_REPRODUCER_DIRECTORY` to enable.\n",
      "I0000 00:00:1745093794.077524   62511 cuda_dnn.cc:529] Loaded cuDNN version 90300\n",
      "I0000 00:00:1745093794.825923   62511 device_compiler.h:188] Compiled cluster using XLA!  This line is logged at most once for the lifetime of the process.\n"
     ]
    }
   ],
   "source": [
    "best_solution = evolve(population, GEN, NP, D, F, CR, model, train_images, encoded_train_label, L, H)\n"
   ]
  },
  {
   "cell_type": "code",
   "execution_count": null,
   "metadata": {},
   "outputs": [],
   "source": []
  },
  {
   "cell_type": "code",
   "execution_count": null,
   "metadata": {},
   "outputs": [],
   "source": []
  },
  {
   "cell_type": "code",
   "execution_count": null,
   "metadata": {},
   "outputs": [],
   "source": []
  }
 ],
 "metadata": {
  "kernelspec": {
   "display_name": "Python 3 (ipykernel)",
   "language": "python",
   "name": "python3"
  },
  "language_info": {
   "codemirror_mode": {
    "name": "ipython",
    "version": 3
   },
   "file_extension": ".py",
   "mimetype": "text/x-python",
   "name": "python",
   "nbconvert_exporter": "python",
   "pygments_lexer": "ipython3",
   "version": "3.11.11"
  }
 },
 "nbformat": 4,
 "nbformat_minor": 4
}

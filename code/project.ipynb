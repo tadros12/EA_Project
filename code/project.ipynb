{
 "cells": [
  {
   "cell_type": "code",
   "execution_count": 1,
   "metadata": {},
   "outputs": [
    {
     "name": "stderr",
     "output_type": "stream",
     "text": [
      "2025-04-19 20:02:37.757142: E external/local_xla/xla/stream_executor/cuda/cuda_fft.cc:477] Unable to register cuFFT factory: Attempting to register factory for plugin cuFFT when one has already been registered\n",
      "WARNING: All log messages before absl::InitializeLog() is called are written to STDERR\n",
      "E0000 00:00:1745085757.770677   25988 cuda_dnn.cc:8310] Unable to register cuDNN factory: Attempting to register factory for plugin cuDNN when one has already been registered\n",
      "E0000 00:00:1745085757.774597   25988 cuda_blas.cc:1418] Unable to register cuBLAS factory: Attempting to register factory for plugin cuBLAS when one has already been registered\n",
      "2025-04-19 20:02:37.790180: I tensorflow/core/platform/cpu_feature_guard.cc:210] This TensorFlow binary is optimized to use available CPU instructions in performance-critical operations.\n",
      "To enable the following instructions: AVX2 FMA, in other operations, rebuild TensorFlow with the appropriate compiler flags.\n"
     ]
    }
   ],
   "source": [
    "import tensorflow as tf\n",
    "import numpy as np \n",
    "from tensorflow import keras\n"
   ]
  },
  {
   "cell_type": "code",
   "execution_count": 2,
   "metadata": {},
   "outputs": [],
   "source": [
    "from tensorflow.keras.datasets import mnist"
   ]
  },
  {
   "cell_type": "code",
   "execution_count": 3,
   "metadata": {},
   "outputs": [],
   "source": [
    "(train_images,train_labels),(test_images,test_labels) = mnist.load_data()"
   ]
  },
  {
   "cell_type": "code",
   "execution_count": 4,
   "metadata": {},
   "outputs": [
    {
     "name": "stdout",
     "output_type": "stream",
     "text": [
      "(60000, 28, 28)\n",
      "(60000,)\n",
      "(10000, 28, 28)\n",
      "(10000,)\n",
      "(60000, 784)\n",
      "(60000,)\n",
      "(10000, 784)\n",
      "(10000,)\n",
      "(60000, 10)\n",
      "(10000, 10)\n"
     ]
    }
   ],
   "source": [
    "print(train_images.shape)\n",
    "print(train_labels.shape)\n",
    "print(test_images.shape)\n",
    "print(test_labels.shape)\n",
    "train_images = train_images.reshape((60000, 28 * 28))\n",
    "train_images = train_images.astype(\"float32\") / 255\n",
    "test_images = test_images.reshape((10000, 28 * 28))\n",
    "test_images = test_images.astype(\"float32\") / 255\n",
    "print(train_images.shape)\n",
    "print(train_labels.shape)\n",
    "print(test_images.shape)\n",
    "print(test_labels.shape)\n",
    "encoded_train_label = keras.utils.to_categorical(train_labels, num_classes=10)\n",
    "encoded_test_label = keras.utils.to_categorical(test_labels, num_classes=10)\n",
    "print(encoded_train_label.shape)\n",
    "print(encoded_test_label.shape)"
   ]
  },
  {
   "cell_type": "markdown",
   "metadata": {},
   "source": [
    "# MLP realted stuff"
   ]
  },
  {
   "cell_type": "code",
   "execution_count": 5,
   "metadata": {},
   "outputs": [],
   "source": [
    "def model_create(input_dim , output_dim , hidden): # hidden here is a array each number represnet the numpber of nurons in each hidden layer\n",
    "    model = keras.Sequential()\n",
    "    model.add(keras.layers.Dense(hidden[0], input_shape=(input_dim,),activation='relu')) # input layers with dim 28*28 for our problem\n",
    "\n",
    "    for nueron in hidden[1:]:\n",
    "        model.add(keras.layers.Dense(nueron, activation='relu'))\n",
    "\n",
    "    model.add(keras.layers.Dense(output_dim, activation='softmax'))\n",
    "\n",
    "    return model\n",
    "    \n",
    "    \n",
    "    "
   ]
  },
  {
   "cell_type": "code",
   "execution_count": 6,
   "metadata": {},
   "outputs": [],
   "source": [
    "def extract_weight(model):\n",
    "    weights = []\n",
    "\n",
    "    for layer in model.layers:\n",
    "        layer_weights = layer.get_weights()\n",
    "\n",
    "        weights.extend([w.flatten() for w in layer_weights])\n",
    "    return np.concatenate(weights)\n",
    "    "
   ]
  },
  {
   "cell_type": "code",
   "execution_count": null,
   "metadata": {},
   "outputs": [],
   "source": []
  },
  {
   "cell_type": "code",
   "execution_count": 7,
   "metadata": {},
   "outputs": [],
   "source": [
    "def return_weights_toModel(model,weight_vector):\n",
    "    #save shapes\n",
    "    idx=0\n",
    "\n",
    "    for i, layer in enumerate(model.layers):  # enumerate to make no iterable items iterable reutrn index i here for example\n",
    "        layer_weight = layer.get_weights()\n",
    "\n",
    "        new_weights= [] # new list of weights\n",
    "\n",
    "        for j,w in enumerate(layer_weight): # j index from enumerate i didnt used it because i dont need it \n",
    "            \n",
    "            n_weights = w.size\n",
    "\n",
    "            new_w = weight_vector[idx:idx + n_weights].reshape(w.shape)\n",
    "\n",
    "            new_weights.append(new_w)\n",
    "\n",
    "            idx += n_weights\n",
    "\n",
    "        layer.set_weights(new_weights)\n",
    "\n",
    "    return model  # model with updated layers\n",
    "    "
   ]
  },
  {
   "cell_type": "markdown",
   "metadata": {},
   "source": [
    "# fitness function"
   ]
  },
  {
   "cell_type": "code",
   "execution_count": 8,
   "metadata": {},
   "outputs": [],
   "source": [
    "def fitness_function(x_train, y_train, original_model, weight_vector):\n",
    "\n",
    "    model_copy = keras.models.clone_model(original_model) # model with new wieght to test with \n",
    "    model_copy.build(original_model.input_shape) # without build : erorr weight is not defined in next line when i try to set weight\n",
    "\n",
    "    return_weights_toModel(model_copy, weight_vector)\n",
    "\n",
    "    y_pred = model_copy.predict(x_train)\n",
    "\n",
    "    mse = np.mean((y_pred-y_train)**2)\n",
    "\n",
    "    return mse\n",
    "    "
   ]
  },
  {
   "cell_type": "code",
   "execution_count": 9,
   "metadata": {},
   "outputs": [
    {
     "name": "stderr",
     "output_type": "stream",
     "text": [
      "/home/theodoros/.local/lib/python3.11/site-packages/keras/src/layers/core/dense.py:87: UserWarning: Do not pass an `input_shape`/`input_dim` argument to a layer. When using Sequential models, prefer using an `Input(shape)` object as the first layer in the model instead.\n",
      "  super().__init__(activity_regularizer=activity_regularizer, **kwargs)\n",
      "I0000 00:00:1745085760.666396   25988 gpu_device.cc:2022] Created device /job:localhost/replica:0/task:0/device:GPU:0 with 2169 MB memory:  -> device: 0, name: NVIDIA GeForce RTX 3050 Laptop GPU, pci bus id: 0000:01:00.0, compute capability: 8.6\n"
     ]
    }
   ],
   "source": [
    "# test example \n",
    "model = model_create(input_dim=28*28 , output_dim=10 , hidden=[100])\n",
    "\n",
    "#weight_vecotor_test = extract_weight(model)\n",
    "#print(weight_vecotor_test)\n",
    "\n",
    "#mse = fitness_function(train_images,encoded_train_label, model, weight_vecotor_test)\n",
    "#print(\"mse is : \",mse)"
   ]
  },
  {
   "cell_type": "markdown",
   "metadata": {},
   "source": [
    "# intialzation function\n",
    "\n",
    "DONT FORGET HERE WHERE YOU SET SEED!!!!\n"
   ]
  },
  {
   "cell_type": "code",
   "execution_count": 28,
   "metadata": {},
   "outputs": [],
   "source": [
    "tf.random.set_seed(24)\n",
    "np.random.seed(24)\n",
    "def intialize_population(model, population_size, min_val=0 , max_val=1.0):\n",
    "\n",
    "    weights = extract_weight(model) # to get the length to create the new at the same size\n",
    "\n",
    "    num_weights = len(weights)\n",
    "\n",
    "    population = tf.random.uniform(\n",
    "        shape = (population_size, num_weights),\n",
    "        minval=min_val,\n",
    "        maxval=max_val,\n",
    "        dtype = tf.float32\n",
    "        \n",
    "    )\n",
    "\n",
    "    population_np = population.numpy()\n",
    "\n",
    "\n",
    "    return population_np\n",
    "    "
   ]
  },
  {
   "cell_type": "code",
   "execution_count": 11,
   "metadata": {},
   "outputs": [],
   "source": [
    "# test\n",
    "NP=50\n",
    "population=intialize_population(model,NP)"
   ]
  },
  {
   "cell_type": "code",
   "execution_count": 12,
   "metadata": {},
   "outputs": [
    {
     "data": {
      "text/plain": [
       "(50, 79510)"
      ]
     },
     "execution_count": 12,
     "metadata": {},
     "output_type": "execute_result"
    }
   ],
   "source": [
    "population.shape\n"
   ]
  },
  {
   "cell_type": "code",
   "execution_count": 13,
   "metadata": {},
   "outputs": [
    {
     "data": {
      "text/plain": [
       "array([[0.10927987, 0.26020873, 0.7633631 , ..., 0.4038297 , 0.8379352 ,\n",
       "        0.82291996],\n",
       "       [0.35637295, 0.01772416, 0.4506879 , ..., 0.3724171 , 0.58914685,\n",
       "        0.8366225 ],\n",
       "       [0.5912293 , 0.13186228, 0.8393806 , ..., 0.71497154, 0.8859141 ,\n",
       "        0.4612081 ],\n",
       "       ...,\n",
       "       [0.14626813, 0.11659384, 0.6644871 , ..., 0.32443225, 0.02631509,\n",
       "        0.12299669],\n",
       "       [0.34714139, 0.3690194 , 0.62691045, ..., 0.93203974, 0.35366738,\n",
       "        0.23383474],\n",
       "       [0.25556505, 0.6664616 , 0.03995574, ..., 0.08379412, 0.45954823,\n",
       "        0.3748058 ]], dtype=float32)"
      ]
     },
     "execution_count": 13,
     "metadata": {},
     "output_type": "execute_result"
    }
   ],
   "source": [
    "population"
   ]
  },
  {
   "cell_type": "code",
   "execution_count": 14,
   "metadata": {},
   "outputs": [
    {
     "name": "stdout",
     "output_type": "stream",
     "text": [
      "number of genes is :  79510\n"
     ]
    }
   ],
   "source": [
    "D = len(extract_weight(model))\n",
    "print(\"number of genes is : \",D)"
   ]
  },
  {
   "cell_type": "code",
   "execution_count": 15,
   "metadata": {},
   "outputs": [],
   "source": [
    "# other parmeters\n",
    "\n",
    "F = 0.9\n",
    "CR = 0.5\n",
    "GEN= 100\n",
    "\n",
    "# constrains\n",
    "\n",
    "L= 0\n",
    "H= 1\n"
   ]
  },
  {
   "cell_type": "code",
   "execution_count": 37,
   "metadata": {},
   "outputs": [
    {
     "name": "stdout",
     "output_type": "stream",
     "text": [
      "[0.60866606 0.10641992 0.0028317  ... 0.9428768  0.8928089  0.42391562]\n",
      "(79510,)\n"
     ]
    }
   ],
   "source": [
    "# selection for the 3 random parent i prreffered to make it a function for editing later \n",
    "def random_vectors(population, current_index):\n",
    "    \n",
    "    population_size = population.shape[0]\n",
    "\n",
    "    # remove the target vectory  \n",
    "\n",
    "    population2 = list(range(population_size))\n",
    "    population2.remove(current_index)\n",
    "\n",
    "    # choosing indices \n",
    "    indexs = np.random.choice(population2, size=3 , replace=False)\n",
    "\n",
    "    v1 = population[indexs[0]]\n",
    "    v2 = population[indexs[1]]\n",
    "    v3 = population[indexs[2]]\n",
    "\n",
    "    return v1, v2, v3\n",
    "\n",
    "\n",
    "\n",
    "# test \n",
    "\n",
    "x1,x2,x3 = random_vectors(population,5)\n",
    "print(x2)\n",
    "print(x2.shape)\n",
    "\n",
    "# dont forget to check glitch with seed here later \n",
    "    "
   ]
  },
  {
   "cell_type": "markdown",
   "metadata": {},
   "source": [
    "# mutation and crossover function"
   ]
  },
  {
   "cell_type": "code",
   "execution_count": 43,
   "metadata": {},
   "outputs": [
    {
     "name": "stdout",
     "output_type": "stream",
     "text": [
      "(79510,)\n",
      "[1.0587404  0.9157058  0.75013244 ... 0.12005645 0.26460293 0.56535935]\n"
     ]
    }
   ],
   "source": [
    "def mutate (x1,x2,x3,F):\n",
    "    v = x3+F*(x1-x2)\n",
    "\n",
    "    return v\n",
    "\n",
    "\n",
    "# test \n",
    "v = mutate(x1,x2,x3 ,.9)\n",
    "print(v.shape)\n",
    "print (v)"
   ]
  },
  {
   "cell_type": "code",
   "execution_count": 26,
   "metadata": {},
   "outputs": [
    {
     "ename": "SyntaxError",
     "evalue": "incomplete input (2750638937.py, line 7)",
     "output_type": "error",
     "traceback": [
      "\u001b[0;36m  Cell \u001b[0;32mIn[26], line 7\u001b[0;36m\u001b[0m\n\u001b[0;31m    \u001b[0m\n\u001b[0m    ^\u001b[0m\n\u001b[0;31mSyntaxError\u001b[0m\u001b[0;31m:\u001b[0m incomplete input\n"
     ]
    }
   ],
   "source": [
    "def evolve(population,GEN,NP,D):\n",
    "    \n",
    "    for g in range(GEN):\n",
    "    \n",
    "        for j in range(NP):\n",
    "            # now choosing 3 ranom vectory to calculate \n",
    "            v1,v2,v3 = random_vectors(population,j)\n",
    "        \n"
   ]
  },
  {
   "cell_type": "code",
   "execution_count": null,
   "metadata": {},
   "outputs": [],
   "source": [
    "print(x1.shape)"
   ]
  },
  {
   "cell_type": "code",
   "execution_count": null,
   "metadata": {},
   "outputs": [],
   "source": []
  }
 ],
 "metadata": {
  "kernelspec": {
   "display_name": "Python 3 (ipykernel)",
   "language": "python",
   "name": "python3"
  },
  "language_info": {
   "codemirror_mode": {
    "name": "ipython",
    "version": 3
   },
   "file_extension": ".py",
   "mimetype": "text/x-python",
   "name": "python",
   "nbconvert_exporter": "python",
   "pygments_lexer": "ipython3",
   "version": "3.11.11"
  }
 },
 "nbformat": 4,
 "nbformat_minor": 4
}
